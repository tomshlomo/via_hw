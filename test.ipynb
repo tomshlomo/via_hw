{
 "cells": [
  {
   "cell_type": "code",
   "execution_count": 1,
   "metadata": {
    "collapsed": true
   },
   "outputs": [
    {
     "name": "stdout",
     "output_type": "stream",
     "text": [
      "1 cars: minimum cost =  4\n",
      "route 1: length = 2, duration = 6, sequence = 0->1\n",
      "0 cars stay in depo.\n"
     ]
    }
   ],
   "source": [
    "from main import solve\n",
    "routes = solve('requests_toy.csv', 'durations_toy.csv', 1)"
   ]
  },
  {
   "cell_type": "code",
   "execution_count": 2,
   "outputs": [
    {
     "name": "stdout",
     "output_type": "stream",
     "text": [
      "25 cars: No solution found.\n",
      "26 cars: No solution found.\n",
      "27 cars: No solution found.\n",
      "28 cars: No solution found.\n",
      "29 cars: minimum cost =  701159\n",
      "route 1: length = 13, duration = 77203, sequence = 0->3->9->19->35->54->74->94->106->127->133->146->152\n",
      "route 2: length = 9, duration = 65675, sequence = 1->7->14->29->51->69->115->128->139\n",
      "route 3: length = 9, duration = 81319, sequence = 2->16->49->72->113->122->131->151->166\n",
      "route 4: length = 9, duration = 75734, sequence = 4->34->73->80->112->125->141->159->164\n",
      "route 5: length = 7, duration = 47918, sequence = 5->18->36->65->78->82->111\n",
      "route 6: length = 4, duration = 21247, sequence = 6->11->24->37\n",
      "route 7: length = 11, duration = 64699, sequence = 8->20->31->44->47->93->103->130->134->147->160\n",
      "route 8: length = 12, duration = 74497, sequence = 10->40->84->91->95->99->108->132->143->148->161->168\n",
      "route 9: length = 7, duration = 42536, sequence = 12->23->32->48->58->71->109\n",
      "route 10: length = 5, duration = 13896, sequence = 13->22->25->42->59\n",
      "route 11: length = 11, duration = 71936, sequence = 15->27->60->76->83->88->119->124->137->158->163\n",
      "route 12: length = 4, duration = 16574, sequence = 17->28->38->55\n",
      "route 13: length = 11, duration = 67542, sequence = 21->79->89->100->104->120->129->135->145->156->167\n",
      "route 14: length = 8, duration = 68100, sequence = 26->39->117->126->136->150->157->165\n",
      "route 15: length = 5, duration = 66703, sequence = 30->121->149->162->169\n",
      "route 16: length = 6, duration = 37234, sequence = 33->53->77->96->102->118\n",
      "route 17: length = 2, duration = 8777, sequence = 41->52\n",
      "route 18: length = 1, duration = 6631, sequence = 43\n",
      "route 19: length = 4, duration = 35720, sequence = 45->75->85->110\n",
      "route 20: length = 4, duration = 47079, sequence = 46->70->114->142\n",
      "route 21: length = 2, duration = 6082, sequence = 50->64\n",
      "route 22: length = 1, duration = 6891, sequence = 56\n",
      "route 23: length = 1, duration = 5465, sequence = 57\n",
      "route 24: length = 1, duration = 3581, sequence = 61\n",
      "route 25: length = 1, duration = 5392, sequence = 62\n",
      "route 26: length = 8, duration = 48139, sequence = 63->81->92->97->101->107->140->153\n",
      "route 27: length = 6, duration = 50123, sequence = 66->87->105->116->138->155\n",
      "route 28: length = 1, duration = 4034, sequence = 67\n",
      "route 29: length = 8, duration = 57727, sequence = 68->86->90->98->123->144->154->170\n",
      "0 cars stay in depo.\n"
     ]
    }
   ],
   "source": [
    "num_cars = 25\n",
    "while True:\n",
    "    routes = solve('requests.csv', 'durations.csv', num_cars)\n",
    "    if routes:\n",
    "        break\n",
    "    num_cars += 1"
   ],
   "metadata": {
    "collapsed": false,
    "pycharm": {
     "name": "#%%\n"
    }
   }
  }
 ],
 "metadata": {
  "kernelspec": {
   "display_name": "Python 3",
   "language": "python",
   "name": "python3"
  },
  "language_info": {
   "codemirror_mode": {
    "name": "ipython",
    "version": 2
   },
   "file_extension": ".py",
   "mimetype": "text/x-python",
   "name": "python",
   "nbconvert_exporter": "python",
   "pygments_lexer": "ipython2",
   "version": "2.7.6"
  }
 },
 "nbformat": 4,
 "nbformat_minor": 0
}